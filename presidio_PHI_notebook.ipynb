{
  "cells": [
    {
      "cell_type": "markdown",
      "metadata": {
        "id": "view-in-github",
        "colab_type": "text"
      },
      "source": [
        "<a href=\"https://colab.research.google.com/github/Blackfang2511/PHI_Deidentification/blob/main/presidio_PHI_notebook.ipynb\" target=\"_parent\"><img src=\"https://colab.research.google.com/assets/colab-badge.svg\" alt=\"Open In Colab\"/></a>"
      ]
    },
    {
      "cell_type": "code",
      "execution_count": null,
      "metadata": {
        "scrolled": true,
        "colab": {
          "base_uri": "https://localhost:8080/"
        },
        "id": "tMmOedBKu5XL",
        "outputId": "9ff50baf-2db0-4113-c0fe-fd6c84b1b474"
      },
      "outputs": [
        {
          "output_type": "stream",
          "name": "stdout",
          "text": [
            "Requirement already satisfied: presidio_analyzer in /usr/local/lib/python3.10/dist-packages (2.2.352)\n",
            "Requirement already satisfied: presidio_anonymizer in /usr/local/lib/python3.10/dist-packages (2.2.352)\n",
            "Requirement already satisfied: spacy<4.0.0,>=3.4.4 in /usr/local/lib/python3.10/dist-packages (from presidio_analyzer) (3.7.2)\n",
            "Requirement already satisfied: regex in /usr/local/lib/python3.10/dist-packages (from presidio_analyzer) (2023.12.25)\n",
            "Requirement already satisfied: tldextract in /usr/local/lib/python3.10/dist-packages (from presidio_analyzer) (5.1.1)\n",
            "Requirement already satisfied: pyyaml in /usr/local/lib/python3.10/dist-packages (from presidio_analyzer) (6.0.1)\n",
            "Requirement already satisfied: phonenumbers<9.0.0,>=8.12 in /usr/local/lib/python3.10/dist-packages (from presidio_analyzer) (8.13.29)\n",
            "Requirement already satisfied: pycryptodome>=3.10.1 in /usr/local/lib/python3.10/dist-packages (from presidio_anonymizer) (3.20.0)\n",
            "Requirement already satisfied: spacy-legacy<3.1.0,>=3.0.11 in /usr/local/lib/python3.10/dist-packages (from spacy<4.0.0,>=3.4.4->presidio_analyzer) (3.0.12)\n",
            "Requirement already satisfied: spacy-loggers<2.0.0,>=1.0.0 in /usr/local/lib/python3.10/dist-packages (from spacy<4.0.0,>=3.4.4->presidio_analyzer) (1.0.5)\n",
            "Requirement already satisfied: murmurhash<1.1.0,>=0.28.0 in /usr/local/lib/python3.10/dist-packages (from spacy<4.0.0,>=3.4.4->presidio_analyzer) (1.0.10)\n",
            "Requirement already satisfied: cymem<2.1.0,>=2.0.2 in /usr/local/lib/python3.10/dist-packages (from spacy<4.0.0,>=3.4.4->presidio_analyzer) (2.0.8)\n",
            "Requirement already satisfied: preshed<3.1.0,>=3.0.2 in /usr/local/lib/python3.10/dist-packages (from spacy<4.0.0,>=3.4.4->presidio_analyzer) (3.0.9)\n",
            "Requirement already satisfied: thinc<8.3.0,>=8.1.8 in /usr/local/lib/python3.10/dist-packages (from spacy<4.0.0,>=3.4.4->presidio_analyzer) (8.2.2)\n",
            "Requirement already satisfied: wasabi<1.2.0,>=0.9.1 in /usr/local/lib/python3.10/dist-packages (from spacy<4.0.0,>=3.4.4->presidio_analyzer) (1.1.2)\n",
            "Requirement already satisfied: srsly<3.0.0,>=2.4.3 in /usr/local/lib/python3.10/dist-packages (from spacy<4.0.0,>=3.4.4->presidio_analyzer) (2.4.8)\n",
            "Requirement already satisfied: catalogue<2.1.0,>=2.0.6 in /usr/local/lib/python3.10/dist-packages (from spacy<4.0.0,>=3.4.4->presidio_analyzer) (2.0.10)\n",
            "Requirement already satisfied: weasel<0.4.0,>=0.1.0 in /usr/local/lib/python3.10/dist-packages (from spacy<4.0.0,>=3.4.4->presidio_analyzer) (0.3.4)\n",
            "Requirement already satisfied: typer<0.10.0,>=0.3.0 in /usr/local/lib/python3.10/dist-packages (from spacy<4.0.0,>=3.4.4->presidio_analyzer) (0.9.0)\n",
            "Requirement already satisfied: smart-open<7.0.0,>=5.2.1 in /usr/local/lib/python3.10/dist-packages (from spacy<4.0.0,>=3.4.4->presidio_analyzer) (6.4.0)\n",
            "Requirement already satisfied: tqdm<5.0.0,>=4.38.0 in /usr/local/lib/python3.10/dist-packages (from spacy<4.0.0,>=3.4.4->presidio_analyzer) (4.66.1)\n",
            "Requirement already satisfied: requests<3.0.0,>=2.13.0 in /usr/local/lib/python3.10/dist-packages (from spacy<4.0.0,>=3.4.4->presidio_analyzer) (2.31.0)\n",
            "Requirement already satisfied: pydantic!=1.8,!=1.8.1,<3.0.0,>=1.7.4 in /usr/local/lib/python3.10/dist-packages (from spacy<4.0.0,>=3.4.4->presidio_analyzer) (1.10.14)\n",
            "Requirement already satisfied: jinja2 in /usr/local/lib/python3.10/dist-packages (from spacy<4.0.0,>=3.4.4->presidio_analyzer) (3.1.3)\n",
            "Requirement already satisfied: setuptools in /usr/local/lib/python3.10/dist-packages (from spacy<4.0.0,>=3.4.4->presidio_analyzer) (67.7.2)\n",
            "Requirement already satisfied: packaging>=20.0 in /usr/local/lib/python3.10/dist-packages (from spacy<4.0.0,>=3.4.4->presidio_analyzer) (23.2)\n",
            "Requirement already satisfied: langcodes<4.0.0,>=3.2.0 in /usr/local/lib/python3.10/dist-packages (from spacy<4.0.0,>=3.4.4->presidio_analyzer) (3.3.0)\n",
            "Requirement already satisfied: numpy>=1.19.0 in /usr/local/lib/python3.10/dist-packages (from spacy<4.0.0,>=3.4.4->presidio_analyzer) (1.23.5)\n",
            "Requirement already satisfied: idna in /usr/local/lib/python3.10/dist-packages (from tldextract->presidio_analyzer) (3.6)\n",
            "Requirement already satisfied: requests-file>=1.4 in /usr/local/lib/python3.10/dist-packages (from tldextract->presidio_analyzer) (2.0.0)\n",
            "Requirement already satisfied: filelock>=3.0.8 in /usr/local/lib/python3.10/dist-packages (from tldextract->presidio_analyzer) (3.13.1)\n",
            "Requirement already satisfied: typing-extensions>=4.2.0 in /usr/local/lib/python3.10/dist-packages (from pydantic!=1.8,!=1.8.1,<3.0.0,>=1.7.4->spacy<4.0.0,>=3.4.4->presidio_analyzer) (4.5.0)\n",
            "Requirement already satisfied: charset-normalizer<4,>=2 in /usr/local/lib/python3.10/dist-packages (from requests<3.0.0,>=2.13.0->spacy<4.0.0,>=3.4.4->presidio_analyzer) (3.3.2)\n",
            "Requirement already satisfied: urllib3<3,>=1.21.1 in /usr/local/lib/python3.10/dist-packages (from requests<3.0.0,>=2.13.0->spacy<4.0.0,>=3.4.4->presidio_analyzer) (2.0.7)\n",
            "Requirement already satisfied: certifi>=2017.4.17 in /usr/local/lib/python3.10/dist-packages (from requests<3.0.0,>=2.13.0->spacy<4.0.0,>=3.4.4->presidio_analyzer) (2023.11.17)\n",
            "Requirement already satisfied: blis<0.8.0,>=0.7.8 in /usr/local/lib/python3.10/dist-packages (from thinc<8.3.0,>=8.1.8->spacy<4.0.0,>=3.4.4->presidio_analyzer) (0.7.11)\n",
            "Requirement already satisfied: confection<1.0.0,>=0.0.1 in /usr/local/lib/python3.10/dist-packages (from thinc<8.3.0,>=8.1.8->spacy<4.0.0,>=3.4.4->presidio_analyzer) (0.1.4)\n",
            "Requirement already satisfied: click<9.0.0,>=7.1.1 in /usr/local/lib/python3.10/dist-packages (from typer<0.10.0,>=0.3.0->spacy<4.0.0,>=3.4.4->presidio_analyzer) (8.1.7)\n",
            "Requirement already satisfied: cloudpathlib<0.17.0,>=0.7.0 in /usr/local/lib/python3.10/dist-packages (from weasel<0.4.0,>=0.1.0->spacy<4.0.0,>=3.4.4->presidio_analyzer) (0.16.0)\n",
            "Requirement already satisfied: MarkupSafe>=2.0 in /usr/local/lib/python3.10/dist-packages (from jinja2->spacy<4.0.0,>=3.4.4->presidio_analyzer) (2.1.4)\n",
            "Collecting en-core-web-lg==3.7.1\n",
            "  Downloading https://github.com/explosion/spacy-models/releases/download/en_core_web_lg-3.7.1/en_core_web_lg-3.7.1-py3-none-any.whl (587.7 MB)\n",
            "\u001b[2K     \u001b[90m━━━━━━━━━━━━━━━━━━━━━━━━━━━━━━━━━━━━━━━━\u001b[0m \u001b[32m587.7/587.7 MB\u001b[0m \u001b[31m1.9 MB/s\u001b[0m eta \u001b[36m0:00:00\u001b[0m\n",
            "\u001b[?25hRequirement already satisfied: spacy<3.8.0,>=3.7.2 in /usr/local/lib/python3.10/dist-packages (from en-core-web-lg==3.7.1) (3.7.2)\n",
            "Requirement already satisfied: spacy-legacy<3.1.0,>=3.0.11 in /usr/local/lib/python3.10/dist-packages (from spacy<3.8.0,>=3.7.2->en-core-web-lg==3.7.1) (3.0.12)\n",
            "Requirement already satisfied: spacy-loggers<2.0.0,>=1.0.0 in /usr/local/lib/python3.10/dist-packages (from spacy<3.8.0,>=3.7.2->en-core-web-lg==3.7.1) (1.0.5)\n",
            "Requirement already satisfied: murmurhash<1.1.0,>=0.28.0 in /usr/local/lib/python3.10/dist-packages (from spacy<3.8.0,>=3.7.2->en-core-web-lg==3.7.1) (1.0.10)\n",
            "Requirement already satisfied: cymem<2.1.0,>=2.0.2 in /usr/local/lib/python3.10/dist-packages (from spacy<3.8.0,>=3.7.2->en-core-web-lg==3.7.1) (2.0.8)\n",
            "Requirement already satisfied: preshed<3.1.0,>=3.0.2 in /usr/local/lib/python3.10/dist-packages (from spacy<3.8.0,>=3.7.2->en-core-web-lg==3.7.1) (3.0.9)\n",
            "Requirement already satisfied: thinc<8.3.0,>=8.1.8 in /usr/local/lib/python3.10/dist-packages (from spacy<3.8.0,>=3.7.2->en-core-web-lg==3.7.1) (8.2.2)\n",
            "Requirement already satisfied: wasabi<1.2.0,>=0.9.1 in /usr/local/lib/python3.10/dist-packages (from spacy<3.8.0,>=3.7.2->en-core-web-lg==3.7.1) (1.1.2)\n",
            "Requirement already satisfied: srsly<3.0.0,>=2.4.3 in /usr/local/lib/python3.10/dist-packages (from spacy<3.8.0,>=3.7.2->en-core-web-lg==3.7.1) (2.4.8)\n",
            "Requirement already satisfied: catalogue<2.1.0,>=2.0.6 in /usr/local/lib/python3.10/dist-packages (from spacy<3.8.0,>=3.7.2->en-core-web-lg==3.7.1) (2.0.10)\n",
            "Requirement already satisfied: weasel<0.4.0,>=0.1.0 in /usr/local/lib/python3.10/dist-packages (from spacy<3.8.0,>=3.7.2->en-core-web-lg==3.7.1) (0.3.4)\n",
            "Requirement already satisfied: typer<0.10.0,>=0.3.0 in /usr/local/lib/python3.10/dist-packages (from spacy<3.8.0,>=3.7.2->en-core-web-lg==3.7.1) (0.9.0)\n",
            "Requirement already satisfied: smart-open<7.0.0,>=5.2.1 in /usr/local/lib/python3.10/dist-packages (from spacy<3.8.0,>=3.7.2->en-core-web-lg==3.7.1) (6.4.0)\n",
            "Requirement already satisfied: tqdm<5.0.0,>=4.38.0 in /usr/local/lib/python3.10/dist-packages (from spacy<3.8.0,>=3.7.2->en-core-web-lg==3.7.1) (4.66.1)\n",
            "Requirement already satisfied: requests<3.0.0,>=2.13.0 in /usr/local/lib/python3.10/dist-packages (from spacy<3.8.0,>=3.7.2->en-core-web-lg==3.7.1) (2.31.0)\n",
            "Requirement already satisfied: pydantic!=1.8,!=1.8.1,<3.0.0,>=1.7.4 in /usr/local/lib/python3.10/dist-packages (from spacy<3.8.0,>=3.7.2->en-core-web-lg==3.7.1) (1.10.14)\n",
            "Requirement already satisfied: jinja2 in /usr/local/lib/python3.10/dist-packages (from spacy<3.8.0,>=3.7.2->en-core-web-lg==3.7.1) (3.1.3)\n",
            "Requirement already satisfied: setuptools in /usr/local/lib/python3.10/dist-packages (from spacy<3.8.0,>=3.7.2->en-core-web-lg==3.7.1) (67.7.2)\n",
            "Requirement already satisfied: packaging>=20.0 in /usr/local/lib/python3.10/dist-packages (from spacy<3.8.0,>=3.7.2->en-core-web-lg==3.7.1) (23.2)\n",
            "Requirement already satisfied: langcodes<4.0.0,>=3.2.0 in /usr/local/lib/python3.10/dist-packages (from spacy<3.8.0,>=3.7.2->en-core-web-lg==3.7.1) (3.3.0)\n",
            "Requirement already satisfied: numpy>=1.19.0 in /usr/local/lib/python3.10/dist-packages (from spacy<3.8.0,>=3.7.2->en-core-web-lg==3.7.1) (1.23.5)\n",
            "Requirement already satisfied: typing-extensions>=4.2.0 in /usr/local/lib/python3.10/dist-packages (from pydantic!=1.8,!=1.8.1,<3.0.0,>=1.7.4->spacy<3.8.0,>=3.7.2->en-core-web-lg==3.7.1) (4.5.0)\n",
            "Requirement already satisfied: charset-normalizer<4,>=2 in /usr/local/lib/python3.10/dist-packages (from requests<3.0.0,>=2.13.0->spacy<3.8.0,>=3.7.2->en-core-web-lg==3.7.1) (3.3.2)\n",
            "Requirement already satisfied: idna<4,>=2.5 in /usr/local/lib/python3.10/dist-packages (from requests<3.0.0,>=2.13.0->spacy<3.8.0,>=3.7.2->en-core-web-lg==3.7.1) (3.6)\n",
            "Requirement already satisfied: urllib3<3,>=1.21.1 in /usr/local/lib/python3.10/dist-packages (from requests<3.0.0,>=2.13.0->spacy<3.8.0,>=3.7.2->en-core-web-lg==3.7.1) (2.0.7)\n",
            "Requirement already satisfied: certifi>=2017.4.17 in /usr/local/lib/python3.10/dist-packages (from requests<3.0.0,>=2.13.0->spacy<3.8.0,>=3.7.2->en-core-web-lg==3.7.1) (2023.11.17)\n",
            "Requirement already satisfied: blis<0.8.0,>=0.7.8 in /usr/local/lib/python3.10/dist-packages (from thinc<8.3.0,>=8.1.8->spacy<3.8.0,>=3.7.2->en-core-web-lg==3.7.1) (0.7.11)\n",
            "Requirement already satisfied: confection<1.0.0,>=0.0.1 in /usr/local/lib/python3.10/dist-packages (from thinc<8.3.0,>=8.1.8->spacy<3.8.0,>=3.7.2->en-core-web-lg==3.7.1) (0.1.4)\n",
            "Requirement already satisfied: click<9.0.0,>=7.1.1 in /usr/local/lib/python3.10/dist-packages (from typer<0.10.0,>=0.3.0->spacy<3.8.0,>=3.7.2->en-core-web-lg==3.7.1) (8.1.7)\n",
            "Requirement already satisfied: cloudpathlib<0.17.0,>=0.7.0 in /usr/local/lib/python3.10/dist-packages (from weasel<0.4.0,>=0.1.0->spacy<3.8.0,>=3.7.2->en-core-web-lg==3.7.1) (0.16.0)\n",
            "Requirement already satisfied: MarkupSafe>=2.0 in /usr/local/lib/python3.10/dist-packages (from jinja2->spacy<3.8.0,>=3.7.2->en-core-web-lg==3.7.1) (2.1.4)\n",
            "\u001b[38;5;2m✔ Download and installation successful\u001b[0m\n",
            "You can now load the package via spacy.load('en_core_web_lg')\n"
          ]
        }
      ],
      "source": [
        "# download presidio\n",
        "!pip install presidio_analyzer presidio_anonymizer\n",
        "!python -m spacy download en_core_web_lg"
      ]
    },
    {
      "cell_type": "markdown",
      "metadata": {
        "id": "o3NfaGQGu5XN"
      },
      "source": [
        "Path to notebook: [https://www.github.com/microsoft/presidio/blob/main/docs/samples/python/presidio_notebook.ipynb](https://www.github.com/microsoft/presidio/blob/main/docs/samples/python/presidio_notebook.ipynb)"
      ]
    },
    {
      "cell_type": "code",
      "execution_count": null,
      "metadata": {
        "id": "AbdJT9Wqu5XO"
      },
      "outputs": [],
      "source": [
        "from presidio_analyzer import AnalyzerEngine, PatternRecognizer\n",
        "from presidio_anonymizer import AnonymizerEngine\n",
        "from presidio_anonymizer.entities import OperatorConfig\n",
        "import json\n",
        "from pprint import pprint"
      ]
    },
    {
      "cell_type": "markdown",
      "metadata": {
        "id": "u4IIA1H2u5XO"
      },
      "source": [
        "# Analyze Text for PII Entities\n",
        "\n",
        "Using Presidio Analyzer, analyze a text to identify PII entities.\n",
        "The Presidio analyzer is using pre-defined entity recognizers, and offers the option to create custom recognizers.\n",
        "\n",
        "The following code sample will:\n",
        "\n",
        "- Set up the Analyzer engine: load the NLP module (spaCy model by default) and other PII recognizers\n",
        "- Call analyzer to get analyzed results for \"PHONE_NUMBER\" entity type\n"
      ]
    },
    {
      "cell_type": "markdown",
      "source": [],
      "metadata": {
        "id": "LT9ykjnnp6ZD"
      }
    },
    {
      "cell_type": "code",
      "execution_count": null,
      "metadata": {
        "id": "ULBc8vyBu5XO"
      },
      "outputs": [],
      "source": [
        "text_to_anonymize = \"His name is Mr. Jones and his phone number is 212-555-5555\""
      ]
    },
    {
      "cell_type": "markdown",
      "source": [],
      "metadata": {
        "id": "3R-VK8O1p7A5"
      }
    },
    {
      "cell_type": "code",
      "execution_count": null,
      "metadata": {
        "colab": {
          "base_uri": "https://localhost:8080/"
        },
        "id": "Ox6x_rU2u5XO",
        "outputId": "7155d639-4324-48cb-e965-c412d34e33ba"
      },
      "outputs": [
        {
          "output_type": "stream",
          "name": "stderr",
          "text": [
            "WARNING:presidio-analyzer:configuration file /usr/local/lib/python3.10/dist-packages/conf/default.yaml not found.  Using default config: {'nlp_engine_name': 'spacy', 'models': [{'lang_code': 'en', 'model_name': 'en_core_web_lg'}]}.\n",
            "WARNING:presidio-analyzer:configuration file is missing 'ner_model_configuration'. Using default\n",
            "WARNING:presidio-analyzer:model_to_presidio_entity_mapping is missing from configuration, using default\n",
            "WARNING:presidio-analyzer:low_score_entity_names is missing from configuration, using default\n",
            "WARNING:presidio-analyzer:labels_to_ignore is missing from configuration, using default\n"
          ]
        },
        {
          "output_type": "stream",
          "name": "stdout",
          "text": [
            "[type: PHONE_NUMBER, start: 46, end: 58, score: 0.75]\n"
          ]
        }
      ],
      "source": [
        "analyzer = AnalyzerEngine()\n",
        "analyzer_results = analyzer.analyze(text=text_to_anonymize, entities=[\"PHONE_NUMBER\"], language='en')\n",
        "\n",
        "print(analyzer_results)"
      ]
    },
    {
      "cell_type": "markdown",
      "metadata": {
        "id": "Hn3d_hIMu5XO"
      },
      "source": [
        "## Create Custom PII Entity Recognizers\n",
        "\n",
        "Presidio Analyzer comes with a pre-defined set of entity recognizers. It also allows adding new recognizers without changing the analyzer base code, **by creating custom recognizers**.\n",
        "In the following example, we will create two new recognizers of type `PatternRecognizer` to identify titles and pronouns in the analyzed text.\n",
        "A `PatternRecognizer` is a PII entity recognizer which uses regular expressions or deny-lists.\n",
        "\n",
        "The following code sample will:\n",
        "- Create custom recognizers\n",
        "- Add the new custom recognizers to the analyzer\n",
        "- Call analyzer to get results from the new recognizers"
      ]
    },
    {
      "cell_type": "markdown",
      "metadata": {
        "id": "vxNXQqqOu5XP"
      },
      "source": [
        "Call Presidio Analyzer and get analyzed results with all the configured recognizers - default and new custom recognizers"
      ]
    },
    {
      "cell_type": "code",
      "execution_count": null,
      "metadata": {
        "id": "DDw8ChWqu5XP"
      },
      "outputs": [],
      "source": [
        "analyzer_results = analyzer.analyze(text=text_to_anonymize, language='en')\n",
        "\n",
        "analyzer_results"
      ]
    },
    {
      "cell_type": "markdown",
      "metadata": {
        "id": "P2hY5HT0u5XP"
      },
      "source": [
        "# Anonymize Text with Identified PII Entities\n",
        "\n",
        "<br>Presidio Anonymizer iterates over the Presidio Analyzer result, and provides anonymization capabilities for the identified text.\n",
        "<br>The anonymizer provides 5 types of anonymizers - replace, redact, mask, hash and encrypt. The default is **replace**\n",
        "\n",
        "<br>The following code sample will:\n",
        "<ol>\n",
        "<li>Setup the anonymizer engine </li>\n",
        "<li>Create an anonymizer request - text to anonymize, list of anonymizers to apply and the results from the analyzer request</li>\n",
        "<li>Anonymize the text</li>\n",
        "</ol>"
      ]
    },
    {
      "cell_type": "code",
      "execution_count": null,
      "metadata": {
        "id": "_LAQWJSWu5XP"
      },
      "outputs": [],
      "source": [
        "anonymizer = AnonymizerEngine()\n",
        "\n",
        "anonymized_results = anonymizer.anonymize(\n",
        "    text=text_to_anonymize,\n",
        "    analyzer_results=analyzer_results,\n",
        "    operators={\"DEFAULT\": OperatorConfig(\"replace\", {\"new_value\": \"<ANONYMIZED>\"}),\n",
        "                        \"PHONE_NUMBER\": OperatorConfig(\"mask\", {\"type\": \"mask\", \"masking_char\" : \"*\", \"chars_to_mask\" : 12, \"from_end\" : True}),\n",
        "                        \"TITLE\": OperatorConfig(\"redact\", {})}\n",
        ")\n",
        "\n",
        "print(f\"text: {anonymized_results.text}\")\n",
        "print(\"detailed response:\")\n",
        "\n",
        "pprint(json.loads(anonymized_results.to_json()))"
      ]
    },
    {
      "cell_type": "code",
      "source": [
        "person1 = {\"name\": \"Martin Smith\",\n",
        "           \"special_value\":\"145A\",\n",
        "           \"free_text\": \"Martin Smith, id 145A, likes playing basketball\"}\n",
        "person2 = {\"name\":\"Deb Schmidt\",\n",
        "           \"special_value\":\"256B\",\n",
        "           \"free_text\": \"Deb Schmidt, id 256B likes playing soccer\"}\n",
        "person3 = {\"name\":\"R2D2\",\n",
        "           \"special_value\":\"X1T2\",\n",
        "           \"free_text\": \"X1T2 is R2D2's special value\"}\n",
        "\n",
        "dataset = [person1, person2, person3]\n",
        "dataset"
      ],
      "metadata": {
        "colab": {
          "base_uri": "https://localhost:8080/"
        },
        "id": "9LE1Dx6IwKrm",
        "outputId": "bcf2a438-00c4-46ce-e5fe-b2e5c0007e8f"
      },
      "execution_count": null,
      "outputs": [
        {
          "output_type": "execute_result",
          "data": {
            "text/plain": [
              "[{'name': 'Martin Smith',\n",
              "  'special_value': '145A',\n",
              "  'free_text': 'Martin Smith, id 145A, likes playing basketball'},\n",
              " {'name': 'Deb Schmidt',\n",
              "  'special_value': '256B',\n",
              "  'free_text': 'Deb Schmidt, id 256B likes playing soccer'},\n",
              " {'name': 'R2D2',\n",
              "  'special_value': 'X1T2',\n",
              "  'free_text': \"X1T2 is R2D2's special value\"}]"
            ]
          },
          "metadata": {},
          "execution_count": 11
        }
      ]
    },
    {
      "cell_type": "code",
      "execution_count": null,
      "metadata": {
        "id": "ZktpMm_au5XP"
      },
      "outputs": [],
      "source": [
        "for person in dataset:\n",
        "\n",
        "    # Get the different known values\n",
        "    name = person['name']\n",
        "    special_val = person['special_value']\n",
        "\n",
        "    # Get the free text to anonymize\n",
        "    free_text = person['free_text']\n",
        "\n",
        "    # Create ad-hoc recognizers\n",
        "    ad_hoc_name_recognizer = PatternRecognizer(supported_entity=\"name\", deny_list = [name])\n",
        "    ad_hoc_id_recognizer = PatternRecognizer(supported_entity=\"special_value\", deny_list = [special_val])\n",
        "\n",
        "    # Run the analyze method with ad_hoc_recognizers:\n",
        "    analyzer_results = analyzer.analyze(text=free_text,\n",
        "                                        language=\"en\",\n",
        "                                        ad_hoc_recognizers=[ad_hoc_name_recognizer, ad_hoc_id_recognizer])\n",
        "\n",
        "    # Anonymize results\n",
        "\n",
        "    # Store output in original dataset"
      ]
    },
    {
      "cell_type": "code",
      "source": [
        "analyzer_results"
      ],
      "metadata": {
        "colab": {
          "base_uri": "https://localhost:8080/"
        },
        "id": "UoEUsJS0wd2B",
        "outputId": "d2a4009f-7d18-41ff-e86e-0aa73a4cc8f4"
      },
      "execution_count": null,
      "outputs": [
        {
          "output_type": "execute_result",
          "data": {
            "text/plain": [
              "[type: special_value, start: 0, end: 4, score: 1.0,\n",
              " type: name, start: 8, end: 12, score: 1.0,\n",
              " type: PERSON, start: 0, end: 4, score: 0.85]"
            ]
          },
          "metadata": {},
          "execution_count": 14
        }
      ]
    },
    {
      "cell_type": "code",
      "source": [
        "import nltk\n",
        "\n",
        "nltk.download('punkt')\n",
        "nltk.download('averaged_perceptron_tagger')\n",
        "nltk.download('maxent_ne_chunker')\n",
        "nltk.download('words')"
      ],
      "metadata": {
        "colab": {
          "base_uri": "https://localhost:8080/"
        },
        "id": "5ewntDZa1Rz1",
        "outputId": "ef3b1edc-0e6f-4b20-a8e5-c895f7d10fad"
      },
      "execution_count": null,
      "outputs": [
        {
          "output_type": "stream",
          "name": "stderr",
          "text": [
            "[nltk_data] Downloading package punkt to /root/nltk_data...\n",
            "[nltk_data]   Unzipping tokenizers/punkt.zip.\n",
            "[nltk_data] Downloading package averaged_perceptron_tagger to\n",
            "[nltk_data]     /root/nltk_data...\n",
            "[nltk_data]   Unzipping taggers/averaged_perceptron_tagger.zip.\n",
            "[nltk_data] Downloading package maxent_ne_chunker to\n",
            "[nltk_data]     /root/nltk_data...\n",
            "[nltk_data]   Unzipping chunkers/maxent_ne_chunker.zip.\n",
            "[nltk_data] Downloading package words to /root/nltk_data...\n",
            "[nltk_data]   Unzipping corpora/words.zip.\n"
          ]
        },
        {
          "output_type": "execute_result",
          "data": {
            "text/plain": [
              "True"
            ]
          },
          "metadata": {},
          "execution_count": 27
        }
      ]
    },
    {
      "cell_type": "code",
      "source": [
        "import nltk\n",
        "\n",
        "from nltk import ne_chunk, pos_tag, word_tokenize\n",
        "from nltk.tree import Tree\n",
        "\n",
        "text = '''\n",
        "Diego Estrada \\n Design Thinking Assignment\\n\\nVisualization Tool\\n\\nChallenge & Selection\n",
        "\\n\\nThe elderly were having a hard time adapting to the changes we brought in our bank.\n",
        "As  a result of a poorly implemented linear solution, a more customer centric approach was  needed.\n",
        "\\n\\nAfter learning about design thinking in this course, we decided to apply it to solve this  problem.\n",
        "The visualization tool allowed the team to create a dynamic presentation using  diagrams, figures and drawings on the go that really resonated among the stakeholders.\n",
        "  Previous to this change, none of our solutions seemed to be adequate for them, but the  new implementation created a different type of\n",
        "   connection with them that helped them  understand the problem in the way the team and I did.\\n\\nApplication\\n\\nThe process starts in the prep time.\n",
        "    The team uses a series of tools and software to  develop a presentation using the surveys gathered during research and the solutions we  created during\n",
        "     the process. The use of graphs to quickly show statistics in a fully visual  way, rather than verbally was a game changer.\n",
        "     \\n\\nAfter having a presentation prepared, the team hands an activity to the stakeholders,\n",
        "     where the solutions discussed previously appear. Nonetheless, the solutions need more  work to them. After this.\n",
        "      The stakeholders are asked to help complete the solutions  while the team and I create diagrams on a blackboard to represent how their\n",
        "      suggestions would impact on this specific problem.\\n\\nThe use of a group activity strengthens the bond between the company and their  investors.\n",
        "       It makes them feel like they take part and help solve the problems as well as  show how customer centric the solutions are. Every complaint and\n",
        "       suggestion from  customers are read and evaluated using the graph shown in the course (Involving: can  we do it? Can we afford it? …).\n",
        "       The finalization of this activity leaves the team and the  stakeholders on the same page. It allows them to completely understand and\n",
        "        feel part  of the solution and also gives them the chance to ask better questions, which eases the  work of the team.\n",
        "        \\n\\nInsight & Approach\\n\\nThe use of this method created a new workflow in the Design Team.\n",
        "         It increased the  productivity and the success rate as well as the customer/stakeholders satisfaction.\n",
        "          The  use of the visualization tool created an engaged group of people who work together\n",
        "          to\\n\\nDiego Estrada\\n\\nfind a solution based on their customer satisfaction. This solution is later revised and\n",
        "           tweaked with the help of the stakeholders who are deeply involved in the process.\\n\\nPresentations, graphics, and activities have added a huge increase in satisfaction. As a  company we also learnt that engaging different areas can be difficult because of the  varying levels of understanding, but when paired with the adequate process things just  flow.\\n\\n(This story is fictional and was created for solving the assignment)\\n\\n'\n",
        "'''\n",
        "\n",
        "nltk_results = ne_chunk(pos_tag(word_tokenize(text)))\n",
        "for nltk_result in nltk_results:\n",
        "    if type(nltk_result) == Tree:\n",
        "        name = ''\n",
        "        for nltk_result_leaf in nltk_result.leaves():\n",
        "            name += nltk_result_leaf[0] + ' '\n",
        "        print ('Type: ', nltk_result.label(), 'Name: ', name)"
      ],
      "metadata": {
        "colab": {
          "base_uri": "https://localhost:8080/"
        },
        "id": "H7zn8W3Dy1Ed",
        "outputId": "6353d5b1-8cb8-4b2a-a296-0fd37d480625"
      },
      "execution_count": null,
      "outputs": [
        {
          "output_type": "stream",
          "name": "stdout",
          "text": [
            "Type:  PERSON Name:  Diego \n",
            "Type:  PERSON Name:  Estrada Design Thinking Assignment \n",
            "Type:  ORGANIZATION Name:  Design Team \n",
            "Type:  PERSON Name:  Diego Estrada \n"
          ]
        }
      ]
    },
    {
      "cell_type": "code",
      "source": [
        "!pip install openai"
      ],
      "metadata": {
        "colab": {
          "base_uri": "https://localhost:8080/"
        },
        "id": "zlXC4nXW4Prh",
        "outputId": "0ea96c85-8a92-4dfe-8954-e2ba3b03ad2f"
      },
      "execution_count": null,
      "outputs": [
        {
          "output_type": "stream",
          "name": "stdout",
          "text": [
            "Requirement already satisfied: openai in /usr/local/lib/python3.10/dist-packages (1.10.0)\n",
            "Requirement already satisfied: anyio<5,>=3.5.0 in /usr/local/lib/python3.10/dist-packages (from openai) (3.7.1)\n",
            "Requirement already satisfied: distro<2,>=1.7.0 in /usr/lib/python3/dist-packages (from openai) (1.7.0)\n",
            "Requirement already satisfied: httpx<1,>=0.23.0 in /usr/local/lib/python3.10/dist-packages (from openai) (0.26.0)\n",
            "Requirement already satisfied: pydantic<3,>=1.9.0 in /usr/local/lib/python3.10/dist-packages (from openai) (1.10.14)\n",
            "Requirement already satisfied: sniffio in /usr/local/lib/python3.10/dist-packages (from openai) (1.3.0)\n",
            "Requirement already satisfied: tqdm>4 in /usr/local/lib/python3.10/dist-packages (from openai) (4.66.1)\n",
            "Requirement already satisfied: typing-extensions<5,>=4.7 in /usr/local/lib/python3.10/dist-packages (from openai) (4.9.0)\n",
            "Requirement already satisfied: idna>=2.8 in /usr/local/lib/python3.10/dist-packages (from anyio<5,>=3.5.0->openai) (3.6)\n",
            "Requirement already satisfied: exceptiongroup in /usr/local/lib/python3.10/dist-packages (from anyio<5,>=3.5.0->openai) (1.2.0)\n",
            "Requirement already satisfied: certifi in /usr/local/lib/python3.10/dist-packages (from httpx<1,>=0.23.0->openai) (2023.11.17)\n",
            "Requirement already satisfied: httpcore==1.* in /usr/local/lib/python3.10/dist-packages (from httpx<1,>=0.23.0->openai) (1.0.2)\n",
            "Requirement already satisfied: h11<0.15,>=0.13 in /usr/local/lib/python3.10/dist-packages (from httpcore==1.*->httpx<1,>=0.23.0->openai) (0.14.0)\n"
          ]
        }
      ]
    },
    {
      "cell_type": "code",
      "source": [
        "pip install openai"
      ],
      "metadata": {
        "colab": {
          "base_uri": "https://localhost:8080/"
        },
        "id": "8HGF-o-S5HCf",
        "outputId": "8687fa37-65a0-47d2-a656-2d6706ff8a9d"
      },
      "execution_count": null,
      "outputs": [
        {
          "output_type": "stream",
          "name": "stdout",
          "text": [
            "Requirement already satisfied: openai in /usr/local/lib/python3.10/dist-packages (1.10.0)\n",
            "Requirement already satisfied: anyio<5,>=3.5.0 in /usr/local/lib/python3.10/dist-packages (from openai) (3.7.1)\n",
            "Requirement already satisfied: distro<2,>=1.7.0 in /usr/lib/python3/dist-packages (from openai) (1.7.0)\n",
            "Requirement already satisfied: httpx<1,>=0.23.0 in /usr/local/lib/python3.10/dist-packages (from openai) (0.26.0)\n",
            "Requirement already satisfied: pydantic<3,>=1.9.0 in /usr/local/lib/python3.10/dist-packages (from openai) (1.10.14)\n",
            "Requirement already satisfied: sniffio in /usr/local/lib/python3.10/dist-packages (from openai) (1.3.0)\n",
            "Requirement already satisfied: tqdm>4 in /usr/local/lib/python3.10/dist-packages (from openai) (4.66.1)\n",
            "Requirement already satisfied: typing-extensions<5,>=4.7 in /usr/local/lib/python3.10/dist-packages (from openai) (4.9.0)\n",
            "Requirement already satisfied: idna>=2.8 in /usr/local/lib/python3.10/dist-packages (from anyio<5,>=3.5.0->openai) (3.6)\n",
            "Requirement already satisfied: exceptiongroup in /usr/local/lib/python3.10/dist-packages (from anyio<5,>=3.5.0->openai) (1.2.0)\n",
            "Requirement already satisfied: certifi in /usr/local/lib/python3.10/dist-packages (from httpx<1,>=0.23.0->openai) (2023.11.17)\n",
            "Requirement already satisfied: httpcore==1.* in /usr/local/lib/python3.10/dist-packages (from httpx<1,>=0.23.0->openai) (1.0.2)\n",
            "Requirement already satisfied: h11<0.15,>=0.13 in /usr/local/lib/python3.10/dist-packages (from httpcore==1.*->httpx<1,>=0.23.0->openai) (0.14.0)\n"
          ]
        }
      ]
    },
    {
      "cell_type": "code",
      "source": [
        "import os\n",
        "\n",
        "# Set the OPENAI_API_KEY environment variable\n",
        "os.environ['OPENAI_API_KEY'] = 'sk-......'"
      ],
      "metadata": {
        "id": "-N3CuFkD6B2B"
      },
      "execution_count": null,
      "outputs": []
    },
    {
      "cell_type": "code",
      "source": [
        "s='   ISA*01*0000000000*01*0000000000*ZZ*ABCDEFGHIJKLMNO*ZZ*123456789012345*101127*1719*U*00400*000003438*0*P*>\\n0   GS*HC*99999999999*888888888888*20111219*1340*1...                                                       \\n1                              ST*837*0001*005010X222                                                       \\n2               BHT*0019*00*565743*20110523*154959*CH                                                       \\n3                   NM1*41*2*SAMPLE INC*****46*496103                                                       \\n4   PER*IC*EDI DEPT*EM*FEEDBACK@1edisource.com*TE*...                                                       \\n5                      NM1*40*2*PPO BLUE*****46*54771                                                       \\n6                                          HL*1**20*1                                                       \\n7                               PRV*BI*PXC*333600000X                                                       \\n8      NM1*85*2*EDI SPECIALTY SAMPLE*****XX*123456789                                                       \\n9                                 N3*1212 DEPOT DRIVE                                                       \\n10                            N4*CHICAGO*IL*606930159                                                       \\n11                                   REF*EI*300123456                                                       \\n12                                        HL*2*1*22*1                                                       \\n13                                    SBR*P********BL                                                       \\n14         NM1*IL*1*CUSTOMER*KAREN****MI*YYX123456789                                                       \\n15                            N3*228 PINEAPPLE CIRCLE                                                       \\n16                                   N4*CORA*PA*15108                                                       \\n17                                  DMG*D8*19630625*M                                                       \\n18                     NM1*PR*2*PPO BLUE*****PI*54771                                                       \\n19                                    N3*PO BOX 12345                                                       \\n20                              N4*CAMP HILL*PA*17089                                                       \\n21                                        HL*3*2*23*0                                                       \\n22                                             PAT*19                                                       \\n23                             NM1*QC*1*CUSTOMER*COLE                                                       \\n24                            N3*228 PINEAPPLE CIRCLE                                                       \\n25                                   N4*CORA*PA*15108                                                       \\n26                                  DMG*D8*19940921*M                                                       \\n27              CLM*945405*5332.54***12>B>1*Y*A*Y*Y*P                                                       \\n28                                         HI*BK>2533                                                       \\n29                                               LX*1                                                       \\n30                     SV1*HC>J2941*5332.54*UN*84***1                                                       \\n31                      DTP*472*RD8*20110511-20110511                                                       \\n32                                  REF*6R*1099999731                                                       \\n33                     NTE*ADD*GENERIC 12MG CARTRIDGE                                                       \\n34                                LIN**N4*00013264681                                                       \\n35                                        CTP****7*UN                                                       \\n36         NM1*DK*1*PATIENT*DEBORAH****XX*12345679030                                                       \\n37                               N3*123 MAIN ST*APT B                                                       \\n38                         N4*PITTSBURGH*PA*152181871                                                       \\n39                                         SE*39*0001                                                       \\n40                                          GE*1*1377                                                       \\n41                                    IEA*1*000001377                                                       '"
      ],
      "metadata": {
        "id": "5lscyotEyATD"
      },
      "execution_count": null,
      "outputs": []
    },
    {
      "cell_type": "code",
      "source": [
        "analyzer_results = analyzer.analyze(text=s, entities=[\"PERSON\"], language='en')\n",
        "\n",
        "print(analyzer_results)"
      ],
      "metadata": {
        "colab": {
          "base_uri": "https://localhost:8080/"
        },
        "id": "ioniBgsZx-Ds",
        "outputId": "864753fc-bb68-4a10-8590-5cfb8feb1c7b"
      },
      "execution_count": null,
      "outputs": [
        {
          "output_type": "stream",
          "name": "stdout",
          "text": [
            "[type: PERSON, start: 249, end: 255, score: 0.85, type: PERSON, start: 4044, end: 4086, score: 0.85]\n"
          ]
        }
      ]
    },
    {
      "cell_type": "code",
      "source": [
        "s[4044:4086]"
      ],
      "metadata": {
        "colab": {
          "base_uri": "https://localhost:8080/",
          "height": 36
        },
        "id": "tnKs6DsWyhXN",
        "outputId": "5fa88378-604a-49e1-baf4-c2a79265455d"
      },
      "execution_count": null,
      "outputs": [
        {
          "output_type": "execute_result",
          "data": {
            "text/plain": [
              "'NM1*DK*1*PATIENT*DEBORAH****XX*12345679030'"
            ],
            "application/vnd.google.colaboratory.intrinsic+json": {
              "type": "string"
            }
          },
          "metadata": {},
          "execution_count": 24
        }
      ]
    },
    {
      "cell_type": "code",
      "source": [
        "\n",
        "nltk_results = ne_chunk(pos_tag(word_tokenize(s)))\n",
        "for nltk_result in nltk_results:\n",
        "    if type(nltk_result) == Tree:\n",
        "        name = ''\n",
        "        for nltk_result_leaf in nltk_result.leaves():\n",
        "            name += nltk_result_leaf[0] + ' '\n",
        "        print ('Type: ', nltk_result.label(), 'Name: ', name)"
      ],
      "metadata": {
        "colab": {
          "base_uri": "https://localhost:8080/"
        },
        "id": "IXOHe0Dh2XOS",
        "outputId": "80be5faa-0970-4950-dbc0-1a7547c7bb1d"
      },
      "execution_count": null,
      "outputs": [
        {
          "output_type": "stream",
          "name": "stdout",
          "text": [
            "Type:  ORGANIZATION Name:  ISA \n",
            "Type:  ORGANIZATION Name:  ABCDEFGHIJKLMNO \n",
            "Type:  ORGANIZATION Name:  NM1 \n",
            "Type:  ORGANIZATION Name:  SAMPLE \n",
            "Type:  ORGANIZATION Name:  PER \n",
            "Type:  ORGANIZATION Name:  NM1 \n",
            "Type:  ORGANIZATION Name:  PPO \n",
            "Type:  ORGANIZATION Name:  PRV \n",
            "Type:  ORGANIZATION Name:  NM1 \n",
            "Type:  ORGANIZATION Name:  EDI \n",
            "Type:  ORGANIZATION Name:  CHICAGO \n",
            "Type:  ORGANIZATION Name:  REF \n",
            "Type:  ORGANIZATION Name:  SBR \n",
            "Type:  ORGANIZATION Name:  NM1 \n",
            "Type:  ORGANIZATION Name:  CUSTOMER \n",
            "Type:  ORGANIZATION Name:  PINEAPPLE \n",
            "Type:  ORGANIZATION Name:  CORA \n",
            "Type:  ORGANIZATION Name:  DMG \n",
            "Type:  ORGANIZATION Name:  NM1 \n",
            "Type:  ORGANIZATION Name:  CAMP \n",
            "Type:  ORGANIZATION Name:  PAT \n",
            "Type:  ORGANIZATION Name:  NM1 \n",
            "Type:  ORGANIZATION Name:  CUSTOMER \n",
            "Type:  ORGANIZATION Name:  PINEAPPLE \n",
            "Type:  ORGANIZATION Name:  CORA \n",
            "Type:  ORGANIZATION Name:  DMG \n",
            "Type:  ORGANIZATION Name:  CLM \n",
            "Type:  ORGANIZATION Name:  SV1 \n",
            "Type:  PERSON Name:  J2941 \n",
            "Type:  ORGANIZATION Name:  DTP \n",
            "Type:  ORGANIZATION Name:  REF \n",
            "Type:  ORGANIZATION Name:  NTE \n",
            "Type:  ORGANIZATION Name:  LIN \n",
            "Type:  ORGANIZATION Name:  CTP \n",
            "Type:  ORGANIZATION Name:  NM1 \n",
            "Type:  ORGANIZATION Name:  PATIENT \n",
            "Type:  ORGANIZATION Name:  MAIN \n",
            "Type:  ORGANIZATION Name:  IEA \n"
          ]
        }
      ]
    },
    {
      "cell_type": "code",
      "source": [
        "for i in"
      ],
      "metadata": {
        "id": "jClsm6QoIihs"
      },
      "execution_count": null,
      "outputs": []
    }
  ],
  "metadata": {
    "kernelspec": {
      "display_name": "presidio",
      "language": "python",
      "name": "presidio"
    },
    "language_info": {
      "codemirror_mode": {
        "name": "ipython",
        "version": 3
      },
      "file_extension": ".py",
      "mimetype": "text/x-python",
      "name": "python",
      "nbconvert_exporter": "python",
      "pygments_lexer": "ipython3",
      "version": "3.7.9"
    },
    "metadata": {
      "interpreter": {
        "hash": "1baa965d5efe3ac65b79dfc60c0d706280b1da80fedb7760faf2759126c4f253"
      }
    },
    "colab": {
      "provenance": [],
      "include_colab_link": true
    }
  },
  "nbformat": 4,
  "nbformat_minor": 0
}